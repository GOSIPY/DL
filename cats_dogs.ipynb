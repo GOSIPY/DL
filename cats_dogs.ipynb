{
 "cells": [
  {
   "cell_type": "code",
   "execution_count": 27,
   "metadata": {},
   "outputs": [],
   "source": [
    "import os,shutil"
   ]
  },
  {
   "cell_type": "code",
   "execution_count": 28,
   "metadata": {},
   "outputs": [],
   "source": [
    "origin_dataset_dir = 'D:\\sj\\cats'"
   ]
  },
  {
   "cell_type": "code",
   "execution_count": 29,
   "metadata": {},
   "outputs": [],
   "source": [
    "base_dir = 'D:\\sj\\cats\\cats_and_dogs_small'"
   ]
  },
  {
   "cell_type": "code",
   "execution_count": 30,
   "metadata": {},
   "outputs": [],
   "source": [
    "import keras"
   ]
  },
  {
   "cell_type": "code",
   "execution_count": 31,
   "metadata": {},
   "outputs": [],
   "source": [
    "from keras.preprocessing.image import ImageDataGenerator"
   ]
  },
  {
   "cell_type": "code",
   "execution_count": 32,
   "metadata": {},
   "outputs": [],
   "source": [
    "train_datagen = ImageDataGenerator(rescale=1./255,rotation_range=40,width_shift_range=0.2,\n",
    "                                  height_shift_range=0.2,shear_range=0.2,zoom_range=0.2,\n",
    "                                  horizontal_flip=True,)\n",
    "test_datagen = ImageDataGenerator(rescale=1./255)\n"
   ]
  },
  {
   "cell_type": "code",
   "execution_count": 33,
   "metadata": {},
   "outputs": [
    {
     "name": "stdout",
     "output_type": "stream",
     "text": [
      "Found 1000 images belonging to 2 classes.\n"
     ]
    }
   ],
   "source": [
    "train_dir = 'D:\\\\sj\\cats\\\\cats_and_dogs_small\\\\train'\n",
    "train_generator = train_datagen.flow_from_directory(test_dir,target_size=(150,150),batch_size=20,\n",
    "                                                    class_mode='binary')"
   ]
  },
  {
   "cell_type": "code",
   "execution_count": 34,
   "metadata": {},
   "outputs": [
    {
     "name": "stdout",
     "output_type": "stream",
     "text": [
      "Found 1000 images belonging to 2 classes.\n"
     ]
    }
   ],
   "source": [
    "test_dir = 'D:\\\\sj\\cats\\\\cats_and_dogs_small\\\\test'\n",
    "test_generator = train_datagen.flow_from_directory(test_dir,target_size=(150,150),batch_size=20,\n",
    "                                                    class_mode='binary')"
   ]
  },
  {
   "cell_type": "code",
   "execution_count": 35,
   "metadata": {},
   "outputs": [],
   "source": [
    "from keras import layers\n"
   ]
  },
  {
   "cell_type": "code",
   "execution_count": 36,
   "metadata": {},
   "outputs": [],
   "source": [
    "from keras import models"
   ]
  },
  {
   "cell_type": "code",
   "execution_count": 37,
   "metadata": {},
   "outputs": [],
   "source": [
    "model = models.Sequential()"
   ]
  },
  {
   "cell_type": "code",
   "execution_count": 38,
   "metadata": {},
   "outputs": [],
   "source": [
    "model.add(layers.Conv2D(32,(3,3),activation='relu',input_shape=(150,150,3)))"
   ]
  },
  {
   "cell_type": "code",
   "execution_count": 39,
   "metadata": {},
   "outputs": [],
   "source": [
    "model.add(layers.MaxPooling2D((2,2)))"
   ]
  },
  {
   "cell_type": "code",
   "execution_count": 40,
   "metadata": {},
   "outputs": [],
   "source": [
    "model.add(layers.Conv2D(64,(3,3),activation='relu'))\n"
   ]
  },
  {
   "cell_type": "code",
   "execution_count": 41,
   "metadata": {},
   "outputs": [],
   "source": [
    "model.add(layers.MaxPooling2D((2,2)))"
   ]
  },
  {
   "cell_type": "code",
   "execution_count": 42,
   "metadata": {},
   "outputs": [],
   "source": [
    "model.add(layers.Conv2D(128,(3,3),activation='relu'))\n",
    "model.add(layers.MaxPooling2D((2,2)))"
   ]
  },
  {
   "cell_type": "code",
   "execution_count": 43,
   "metadata": {},
   "outputs": [],
   "source": [
    "model.add(layers.Conv2D(128,(3,3),activation='relu'))\n",
    "model.add(layers.MaxPooling2D((2,2)))"
   ]
  },
  {
   "cell_type": "code",
   "execution_count": 44,
   "metadata": {},
   "outputs": [],
   "source": [
    "model.add(layers.Flatten())"
   ]
  },
  {
   "cell_type": "code",
   "execution_count": 45,
   "metadata": {},
   "outputs": [],
   "source": [
    "model.add(layers.Dense(512,activation='relu'))"
   ]
  },
  {
   "cell_type": "code",
   "execution_count": 46,
   "metadata": {},
   "outputs": [],
   "source": [
    "model.add(layers.Dense(1,activation='sigmoid'))"
   ]
  },
  {
   "cell_type": "code",
   "execution_count": 47,
   "metadata": {},
   "outputs": [
    {
     "name": "stdout",
     "output_type": "stream",
     "text": [
      "_________________________________________________________________\n",
      "Layer (type)                 Output Shape              Param #   \n",
      "=================================================================\n",
      "conv2d_5 (Conv2D)            (None, 148, 148, 32)      896       \n",
      "_________________________________________________________________\n",
      "max_pooling2d_5 (MaxPooling2 (None, 74, 74, 32)        0         \n",
      "_________________________________________________________________\n",
      "conv2d_6 (Conv2D)            (None, 72, 72, 64)        18496     \n",
      "_________________________________________________________________\n",
      "max_pooling2d_6 (MaxPooling2 (None, 36, 36, 64)        0         \n",
      "_________________________________________________________________\n",
      "conv2d_7 (Conv2D)            (None, 34, 34, 128)       73856     \n",
      "_________________________________________________________________\n",
      "max_pooling2d_7 (MaxPooling2 (None, 17, 17, 128)       0         \n",
      "_________________________________________________________________\n",
      "conv2d_8 (Conv2D)            (None, 15, 15, 128)       147584    \n",
      "_________________________________________________________________\n",
      "max_pooling2d_8 (MaxPooling2 (None, 7, 7, 128)         0         \n",
      "_________________________________________________________________\n",
      "flatten_2 (Flatten)          (None, 6272)              0         \n",
      "_________________________________________________________________\n",
      "dense_3 (Dense)              (None, 512)               3211776   \n",
      "_________________________________________________________________\n",
      "dense_4 (Dense)              (None, 1)                 513       \n",
      "=================================================================\n",
      "Total params: 3,453,121\n",
      "Trainable params: 3,453,121\n",
      "Non-trainable params: 0\n",
      "_________________________________________________________________\n"
     ]
    }
   ],
   "source": [
    "model.summary()"
   ]
  },
  {
   "cell_type": "code",
   "execution_count": 48,
   "metadata": {},
   "outputs": [],
   "source": [
    "from keras import optimizers"
   ]
  },
  {
   "cell_type": "code",
   "execution_count": 49,
   "metadata": {},
   "outputs": [
    {
     "name": "stdout",
     "output_type": "stream",
     "text": [
      "WARNING:tensorflow:From D:\\anaconda\\lib\\site-packages\\keras\\backend\\tensorflow_backend.py:986: The name tf.assign_add is deprecated. Please use tf.compat.v1.assign_add instead.\n",
      "\n",
      "Epoch 1/100\n",
      "100/100 [==============================] - 89s 893ms/step - loss: 0.6887 - acc: 0.5405 - val_loss: 0.7003 - val_acc: 0.5220\n",
      "Epoch 2/100\n",
      "100/100 [==============================] - 79s 793ms/step - loss: 0.6681 - acc: 0.5760 - val_loss: 0.6533 - val_acc: 0.6070\n",
      "Epoch 3/100\n",
      "100/100 [==============================] - 79s 793ms/step - loss: 0.6542 - acc: 0.5930 - val_loss: 0.6414 - val_acc: 0.6320\n",
      "Epoch 4/100\n",
      "100/100 [==============================] - 80s 795ms/step - loss: 0.6465 - acc: 0.6155 - val_loss: 0.6344 - val_acc: 0.6270\n",
      "Epoch 5/100\n",
      "100/100 [==============================] - 80s 798ms/step - loss: 0.6239 - acc: 0.6570 - val_loss: 0.6147 - val_acc: 0.6560\n",
      "Epoch 6/100\n",
      "100/100 [==============================] - 79s 789ms/step - loss: 0.6118 - acc: 0.6540 - val_loss: 0.5874 - val_acc: 0.6920\n",
      "Epoch 7/100\n",
      "100/100 [==============================] - 79s 791ms/step - loss: 0.5924 - acc: 0.6805 - val_loss: 0.5730 - val_acc: 0.6980\n",
      "Epoch 8/100\n",
      "100/100 [==============================] - 79s 792ms/step - loss: 0.5882 - acc: 0.6695 - val_loss: 0.5563 - val_acc: 0.7260\n",
      "Epoch 9/100\n",
      "100/100 [==============================] - 80s 801ms/step - loss: 0.5841 - acc: 0.6695 - val_loss: 0.5446 - val_acc: 0.7070\n",
      "Epoch 10/100\n",
      "100/100 [==============================] - 79s 793ms/step - loss: 0.5749 - acc: 0.6960 - val_loss: 0.5406 - val_acc: 0.7220\n",
      "Epoch 11/100\n",
      "100/100 [==============================] - 79s 790ms/step - loss: 0.5649 - acc: 0.7010 - val_loss: 0.5554 - val_acc: 0.7170\n",
      "Epoch 12/100\n",
      "100/100 [==============================] - 79s 787ms/step - loss: 0.5630 - acc: 0.6955 - val_loss: 0.5510 - val_acc: 0.7020\n",
      "Epoch 13/100\n",
      "100/100 [==============================] - 80s 802ms/step - loss: 0.5494 - acc: 0.7195 - val_loss: 0.5322 - val_acc: 0.7300\n",
      "Epoch 14/100\n",
      "100/100 [==============================] - 81s 809ms/step - loss: 0.5372 - acc: 0.7205 - val_loss: 0.5454 - val_acc: 0.6920\n",
      "Epoch 15/100\n",
      "100/100 [==============================] - 79s 792ms/step - loss: 0.5424 - acc: 0.7260 - val_loss: 0.5075 - val_acc: 0.7430\n",
      "Epoch 16/100\n",
      "100/100 [==============================] - 80s 795ms/step - loss: 0.5430 - acc: 0.7190 - val_loss: 0.5268 - val_acc: 0.7260\n",
      "Epoch 17/100\n",
      "100/100 [==============================] - 79s 794ms/step - loss: 0.5281 - acc: 0.7240 - val_loss: 0.5225 - val_acc: 0.7370\n",
      "Epoch 18/100\n",
      "100/100 [==============================] - 79s 791ms/step - loss: 0.5163 - acc: 0.7350 - val_loss: 0.6151 - val_acc: 0.6540\n",
      "Epoch 19/100\n",
      "100/100 [==============================] - 79s 793ms/step - loss: 0.5211 - acc: 0.7395 - val_loss: 0.5147 - val_acc: 0.7400\n",
      "Epoch 20/100\n",
      "100/100 [==============================] - 79s 794ms/step - loss: 0.5078 - acc: 0.7445 - val_loss: 0.5142 - val_acc: 0.7600\n",
      "Epoch 21/100\n",
      "100/100 [==============================] - 79s 794ms/step - loss: 0.5128 - acc: 0.7375 - val_loss: 0.4923 - val_acc: 0.7660\n",
      "Epoch 22/100\n",
      "100/100 [==============================] - 79s 794ms/step - loss: 0.5008 - acc: 0.7475 - val_loss: 0.5142 - val_acc: 0.7370\n",
      "Epoch 23/100\n",
      "100/100 [==============================] - 79s 792ms/step - loss: 0.4915 - acc: 0.7470 - val_loss: 0.4909 - val_acc: 0.7470\n",
      "Epoch 24/100\n",
      "100/100 [==============================] - 79s 793ms/step - loss: 0.4791 - acc: 0.7670 - val_loss: 0.5313 - val_acc: 0.7210\n",
      "Epoch 25/100\n",
      "100/100 [==============================] - 81s 809ms/step - loss: 0.5037 - acc: 0.7465 - val_loss: 0.4678 - val_acc: 0.7760\n",
      "Epoch 26/100\n",
      "100/100 [==============================] - 79s 792ms/step - loss: 0.4915 - acc: 0.7575 - val_loss: 0.4672 - val_acc: 0.7590\n",
      "Epoch 27/100\n",
      "100/100 [==============================] - 79s 792ms/step - loss: 0.4923 - acc: 0.7585 - val_loss: 0.4983 - val_acc: 0.7440\n",
      "Epoch 28/100\n",
      "100/100 [==============================] - 80s 797ms/step - loss: 0.4811 - acc: 0.7630 - val_loss: 0.4662 - val_acc: 0.7760\n",
      "Epoch 29/100\n",
      "100/100 [==============================] - 80s 796ms/step - loss: 0.4721 - acc: 0.7665 - val_loss: 0.4576 - val_acc: 0.7850\n",
      "Epoch 30/100\n",
      "100/100 [==============================] - 79s 792ms/step - loss: 0.4697 - acc: 0.7665 - val_loss: 0.4406 - val_acc: 0.7930\n",
      "Epoch 31/100\n",
      "100/100 [==============================] - 79s 793ms/step - loss: 0.4852 - acc: 0.7610 - val_loss: 0.4393 - val_acc: 0.7880\n",
      "Epoch 32/100\n",
      "100/100 [==============================] - 82s 824ms/step - loss: 0.4640 - acc: 0.7785 - val_loss: 0.4396 - val_acc: 0.7960\n",
      "Epoch 33/100\n",
      "100/100 [==============================] - 80s 803ms/step - loss: 0.4571 - acc: 0.7750 - val_loss: 0.4570 - val_acc: 0.7890\n",
      "Epoch 34/100\n",
      "100/100 [==============================] - 79s 792ms/step - loss: 0.4643 - acc: 0.7705 - val_loss: 0.4806 - val_acc: 0.7580\n",
      "Epoch 35/100\n",
      "100/100 [==============================] - 79s 795ms/step - loss: 0.4542 - acc: 0.7800 - val_loss: 0.5180 - val_acc: 0.7570\n",
      "Epoch 36/100\n",
      "100/100 [==============================] - 80s 795ms/step - loss: 0.4644 - acc: 0.7725 - val_loss: 0.4446 - val_acc: 0.7680\n",
      "Epoch 37/100\n",
      "100/100 [==============================] - 79s 793ms/step - loss: 0.4580 - acc: 0.7740 - val_loss: 0.4532 - val_acc: 0.7740\n",
      "Epoch 38/100\n",
      "100/100 [==============================] - 81s 807ms/step - loss: 0.4506 - acc: 0.7885 - val_loss: 0.4210 - val_acc: 0.8070\n",
      "Epoch 39/100\n",
      "100/100 [==============================] - 82s 816ms/step - loss: 0.4422 - acc: 0.7900 - val_loss: 0.4144 - val_acc: 0.7960\n",
      "Epoch 40/100\n",
      "100/100 [==============================] - 79s 794ms/step - loss: 0.4414 - acc: 0.7955 - val_loss: 0.4059 - val_acc: 0.8140\n",
      "Epoch 41/100\n",
      "100/100 [==============================] - 79s 791ms/step - loss: 0.4284 - acc: 0.8015 - val_loss: 0.4482 - val_acc: 0.7790\n",
      "Epoch 42/100\n",
      "100/100 [==============================] - 79s 792ms/step - loss: 0.4346 - acc: 0.7870 - val_loss: 0.4157 - val_acc: 0.7930\n",
      "Epoch 43/100\n",
      "100/100 [==============================] - 80s 797ms/step - loss: 0.4237 - acc: 0.7975 - val_loss: 0.3904 - val_acc: 0.8320\n",
      "Epoch 44/100\n",
      "100/100 [==============================] - 79s 788ms/step - loss: 0.4259 - acc: 0.8020 - val_loss: 0.4044 - val_acc: 0.8200\n",
      "Epoch 45/100\n",
      "100/100 [==============================] - 79s 789ms/step - loss: 0.4063 - acc: 0.8080 - val_loss: 0.4083 - val_acc: 0.8160\n",
      "Epoch 46/100\n",
      "100/100 [==============================] - 79s 795ms/step - loss: 0.4318 - acc: 0.7935 - val_loss: 0.3797 - val_acc: 0.8360\n",
      "Epoch 47/100\n",
      "100/100 [==============================] - 79s 789ms/step - loss: 0.4151 - acc: 0.8100 - val_loss: 0.3808 - val_acc: 0.8270\n",
      "Epoch 48/100\n",
      "100/100 [==============================] - 79s 787ms/step - loss: 0.4127 - acc: 0.8095 - val_loss: 0.3991 - val_acc: 0.8320\n",
      "Epoch 49/100\n",
      "100/100 [==============================] - 79s 790ms/step - loss: 0.4060 - acc: 0.8170 - val_loss: 0.3651 - val_acc: 0.8320\n",
      "Epoch 50/100\n",
      "100/100 [==============================] - 80s 799ms/step - loss: 0.4043 - acc: 0.8115 - val_loss: 0.3921 - val_acc: 0.8140\n",
      "Epoch 51/100\n",
      "100/100 [==============================] - 80s 802ms/step - loss: 0.3991 - acc: 0.8050 - val_loss: 0.3875 - val_acc: 0.8270\n",
      "Epoch 52/100\n",
      "100/100 [==============================] - 79s 791ms/step - loss: 0.4144 - acc: 0.8065 - val_loss: 0.3606 - val_acc: 0.8370\n",
      "Epoch 53/100\n",
      "100/100 [==============================] - 80s 802ms/step - loss: 0.3974 - acc: 0.8110 - val_loss: 0.3493 - val_acc: 0.8420\n",
      "Epoch 54/100\n",
      "100/100 [==============================] - 79s 791ms/step - loss: 0.3894 - acc: 0.8210 - val_loss: 0.5170 - val_acc: 0.7620\n",
      "Epoch 55/100\n",
      "100/100 [==============================] - 79s 793ms/step - loss: 0.3795 - acc: 0.8250 - val_loss: 0.3611 - val_acc: 0.8340\n",
      "Epoch 56/100\n",
      "100/100 [==============================] - 79s 791ms/step - loss: 0.3936 - acc: 0.8205 - val_loss: 0.3588 - val_acc: 0.8490\n",
      "Epoch 57/100\n",
      "100/100 [==============================] - 83s 826ms/step - loss: 0.3912 - acc: 0.8160 - val_loss: 0.3589 - val_acc: 0.8370\n",
      "Epoch 58/100\n",
      "100/100 [==============================] - 79s 793ms/step - loss: 0.3955 - acc: 0.8265 - val_loss: 0.3434 - val_acc: 0.8510\n",
      "Epoch 59/100\n",
      "100/100 [==============================] - 80s 797ms/step - loss: 0.3618 - acc: 0.8390 - val_loss: 0.3407 - val_acc: 0.8560\n",
      "Epoch 60/100\n",
      "100/100 [==============================] - 80s 802ms/step - loss: 0.3848 - acc: 0.8165 - val_loss: 0.3415 - val_acc: 0.8400\n",
      "Epoch 61/100\n",
      "100/100 [==============================] - 79s 793ms/step - loss: 0.3735 - acc: 0.8325 - val_loss: 0.3936 - val_acc: 0.8180\n",
      "Epoch 62/100\n",
      "100/100 [==============================] - 79s 792ms/step - loss: 0.3739 - acc: 0.8360 - val_loss: 0.3377 - val_acc: 0.8460\n",
      "Epoch 63/100\n",
      "100/100 [==============================] - 81s 812ms/step - loss: 0.3739 - acc: 0.8315 - val_loss: 0.3360 - val_acc: 0.8510\n",
      "Epoch 64/100\n",
      "100/100 [==============================] - 79s 793ms/step - loss: 0.3698 - acc: 0.8340 - val_loss: 0.3324 - val_acc: 0.8430\n",
      "Epoch 65/100\n",
      "100/100 [==============================] - 79s 791ms/step - loss: 0.3555 - acc: 0.8400 - val_loss: 0.3261 - val_acc: 0.8530\n",
      "Epoch 66/100\n",
      "100/100 [==============================] - 79s 792ms/step - loss: 0.3664 - acc: 0.8315 - val_loss: 0.3578 - val_acc: 0.8470\n",
      "Epoch 67/100\n",
      "100/100 [==============================] - 79s 793ms/step - loss: 0.3405 - acc: 0.8495 - val_loss: 0.3332 - val_acc: 0.8450\n",
      "Epoch 68/100\n",
      "100/100 [==============================] - 80s 797ms/step - loss: 0.3696 - acc: 0.8310 - val_loss: 0.3747 - val_acc: 0.8150\n",
      "Epoch 69/100\n",
      "100/100 [==============================] - 80s 797ms/step - loss: 0.3500 - acc: 0.8455 - val_loss: 0.3686 - val_acc: 0.8240\n",
      "Epoch 70/100\n",
      "100/100 [==============================] - 79s 793ms/step - loss: 0.3563 - acc: 0.8345 - val_loss: 0.3105 - val_acc: 0.8730\n",
      "Epoch 71/100\n",
      "100/100 [==============================] - 79s 793ms/step - loss: 0.3535 - acc: 0.8330 - val_loss: 0.3728 - val_acc: 0.8350\n",
      "Epoch 72/100\n",
      "100/100 [==============================] - 80s 796ms/step - loss: 0.3336 - acc: 0.8535 - val_loss: 0.3388 - val_acc: 0.8470\n",
      "Epoch 73/100\n",
      "100/100 [==============================] - 79s 792ms/step - loss: 0.3577 - acc: 0.8490 - val_loss: 0.3103 - val_acc: 0.8600\n",
      "Epoch 74/100\n",
      "100/100 [==============================] - 79s 795ms/step - loss: 0.3284 - acc: 0.8585 - val_loss: 0.3040 - val_acc: 0.8660\n",
      "Epoch 75/100\n",
      "100/100 [==============================] - 79s 792ms/step - loss: 0.3354 - acc: 0.8465 - val_loss: 0.2957 - val_acc: 0.8680\n",
      "Epoch 76/100\n",
      "100/100 [==============================] - 79s 793ms/step - loss: 0.3398 - acc: 0.8475 - val_loss: 0.3841 - val_acc: 0.8350\n",
      "Epoch 77/100\n",
      "100/100 [==============================] - 84s 842ms/step - loss: 0.3291 - acc: 0.8510 - val_loss: 0.3049 - val_acc: 0.8680\n",
      "Epoch 78/100\n",
      "100/100 [==============================] - 80s 797ms/step - loss: 0.3242 - acc: 0.8505 - val_loss: 0.2745 - val_acc: 0.8770\n",
      "Epoch 79/100\n",
      "100/100 [==============================] - 79s 795ms/step - loss: 0.3209 - acc: 0.8615 - val_loss: 0.3168 - val_acc: 0.8480\n",
      "Epoch 80/100\n",
      "100/100 [==============================] - 80s 802ms/step - loss: 0.3166 - acc: 0.8675 - val_loss: 0.4684 - val_acc: 0.7710\n",
      "Epoch 81/100\n",
      "100/100 [==============================] - 79s 794ms/step - loss: 0.3317 - acc: 0.8515 - val_loss: 0.2849 - val_acc: 0.8740\n",
      "Epoch 82/100\n",
      "100/100 [==============================] - 79s 795ms/step - loss: 0.3289 - acc: 0.8510 - val_loss: 0.3157 - val_acc: 0.8500\n",
      "Epoch 83/100\n",
      "100/100 [==============================] - 79s 793ms/step - loss: 0.3000 - acc: 0.8680 - val_loss: 0.2709 - val_acc: 0.8820\n",
      "Epoch 84/100\n",
      "100/100 [==============================] - 80s 796ms/step - loss: 0.3007 - acc: 0.8665 - val_loss: 0.2646 - val_acc: 0.8840\n",
      "Epoch 85/100\n",
      "100/100 [==============================] - 79s 792ms/step - loss: 0.3073 - acc: 0.8650 - val_loss: 0.2820 - val_acc: 0.8900\n",
      "Epoch 86/100\n",
      "100/100 [==============================] - 79s 792ms/step - loss: 0.2888 - acc: 0.8750 - val_loss: 0.2864 - val_acc: 0.8630\n",
      "Epoch 87/100\n",
      "100/100 [==============================] - 79s 792ms/step - loss: 0.3143 - acc: 0.8605 - val_loss: 0.2626 - val_acc: 0.8820\n",
      "Epoch 88/100\n",
      "100/100 [==============================] - 79s 794ms/step - loss: 0.2978 - acc: 0.8700 - val_loss: 0.2916 - val_acc: 0.8750\n",
      "Epoch 89/100\n",
      "100/100 [==============================] - 80s 797ms/step - loss: 0.3138 - acc: 0.8610 - val_loss: 0.2664 - val_acc: 0.8930\n",
      "Epoch 90/100\n",
      "100/100 [==============================] - 80s 795ms/step - loss: 0.2940 - acc: 0.8780 - val_loss: 0.2686 - val_acc: 0.8800\n",
      "Epoch 91/100\n",
      "100/100 [==============================] - 79s 792ms/step - loss: 0.2983 - acc: 0.8655 - val_loss: 0.2636 - val_acc: 0.8970\n",
      "Epoch 92/100\n",
      "100/100 [==============================] - 79s 793ms/step - loss: 0.2900 - acc: 0.8755 - val_loss: 0.2651 - val_acc: 0.8860\n",
      "Epoch 93/100\n",
      "100/100 [==============================] - 80s 800ms/step - loss: 0.2824 - acc: 0.8795 - val_loss: 0.2477 - val_acc: 0.8890\n",
      "Epoch 94/100\n",
      "100/100 [==============================] - 83s 829ms/step - loss: 0.2842 - acc: 0.8755 - val_loss: 0.3858 - val_acc: 0.8140\n",
      "Epoch 95/100\n",
      "100/100 [==============================] - 83s 833ms/step - loss: 0.2818 - acc: 0.8795 - val_loss: 0.3341 - val_acc: 0.8540\n",
      "Epoch 96/100\n",
      "100/100 [==============================] - 81s 809ms/step - loss: 0.3014 - acc: 0.8670 - val_loss: 0.2604 - val_acc: 0.8800\n",
      "Epoch 97/100\n",
      "100/100 [==============================] - 81s 807ms/step - loss: 0.2873 - acc: 0.8740 - val_loss: 0.2718 - val_acc: 0.8770\n",
      "Epoch 98/100\n",
      "100/100 [==============================] - 81s 810ms/step - loss: 0.2897 - acc: 0.8745 - val_loss: 0.2523 - val_acc: 0.8860\n",
      "Epoch 99/100\n",
      "100/100 [==============================] - 82s 817ms/step - loss: 0.2871 - acc: 0.8740 - val_loss: 0.2360 - val_acc: 0.8960\n",
      "Epoch 100/100\n",
      "100/100 [==============================] - 80s 798ms/step - loss: 0.2948 - acc: 0.8795 - val_loss: 0.2312 - val_acc: 0.8980\n"
     ]
    }
   ],
   "source": [
    "model.compile(loss='binary_crossentropy',optimizer=optimizers.RMSprop(lr=1e-4),metrics=['acc'])\n",
    "history = model.fit_generator(train_generator,steps_per_epoch=100,epochs=100,validation_data=test_generator,\n",
    "                             validation_steps=50)"
   ]
  },
  {
   "cell_type": "code",
   "execution_count": 50,
   "metadata": {},
   "outputs": [
    {
     "name": "stdout",
     "output_type": "stream",
     "text": [
      "Populating the interactive namespace from numpy and matplotlib\n"
     ]
    }
   ],
   "source": [
    "%pylab inline"
   ]
  },
  {
   "cell_type": "code",
   "execution_count": 51,
   "metadata": {},
   "outputs": [],
   "source": [
    "acc = history.history['acc']"
   ]
  },
  {
   "cell_type": "code",
   "execution_count": 52,
   "metadata": {},
   "outputs": [],
   "source": [
    "val_acc = history.history['val_acc']"
   ]
  },
  {
   "cell_type": "code",
   "execution_count": 53,
   "metadata": {},
   "outputs": [],
   "source": [
    "loss = history.history['loss']"
   ]
  },
  {
   "cell_type": "code",
   "execution_count": 54,
   "metadata": {},
   "outputs": [],
   "source": [
    "val_loss = history.history['val_loss']"
   ]
  },
  {
   "cell_type": "code",
   "execution_count": 55,
   "metadata": {},
   "outputs": [],
   "source": [
    "epochs = range(1,len(acc)+1)"
   ]
  },
  {
   "cell_type": "code",
   "execution_count": 56,
   "metadata": {},
   "outputs": [
    {
     "data": {
      "image/png": "[encoded data removed]",
      "text/plain": [
       "<Figure size 432x288 with 1 Axes>"
      ]
     },
     "metadata": {
      "needs_background": "light"
     },
     "output_type": "display_data"
    }
   ],
   "source": [
    "plt.plot(epochs,acc,'bo',label='Training acc')\n",
    "plt,plot(epochs,val_acc,'b',label='Validation acc')\n",
    "plt.title('Train and validation acc')\n",
    "plt.legend()\n",
    "plt.grid()"
   ]
  },
  {
   "cell_type": "code",
   "execution_count": null,
   "metadata": {},
   "outputs": [],
   "source": []
  }
 ],
 "metadata": {
  "kernelspec": {
   "display_name": "Python 3",
   "language": "python",
   "name": "python3"
  },
  "language_info": {
   "codemirror_mode": {
    "name": "ipython",
    "version": 3
   },
   "file_extension": ".py",
   "mimetype": "text/x-python",
   "name": "python",
   "nbconvert_exporter": "python",
   "pygments_lexer": "ipython3",
   "version": "3.7.4"
  }
 },
 "nbformat": 4,
 "nbformat_minor": 2
}
