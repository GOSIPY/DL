{
 "cells": [
  {
   "cell_type": "code",
   "execution_count": 2,
   "metadata": {},
   "outputs": [],
   "source": [
    "import os,shutil"
   ]
  },
  {
   "cell_type": "code",
   "execution_count": 3,
   "metadata": {},
   "outputs": [],
   "source": [
    "origin_dataset_dir = 'D:\\sj\\cats'"
   ]
  },
  {
   "cell_type": "code",
   "execution_count": 4,
   "metadata": {},
   "outputs": [],
   "source": [
    "base_dir = 'D:\\sj\\cats\\cats_and_dogs_small'"
   ]
  },
  {
   "cell_type": "code",
   "execution_count": 5,
   "metadata": {},
   "outputs": [
    {
     "name": "stderr",
     "output_type": "stream",
     "text": [
      "Using TensorFlow backend.\n"
     ]
    }
   ],
   "source": [
    "import keras"
   ]
  },
  {
   "cell_type": "code",
   "execution_count": 6,
   "metadata": {},
   "outputs": [],
   "source": [
    "from keras.preprocessing.image import ImageDataGenerator"
   ]
  },
  {
   "cell_type": "code",
   "execution_count": 7,
   "metadata": {},
   "outputs": [],
   "source": [
    "train_datagen = ImageDataGenerator(rescale=1./255)"
   ]
  },
  {
   "cell_type": "code",
   "execution_count": 8,
   "metadata": {},
   "outputs": [],
   "source": [
    "test_datagen = ImageDataGenerator(rescale=1./255)\n"
   ]
  },
  {
   "cell_type": "code",
   "execution_count": 9,
   "metadata": {},
   "outputs": [
    {
     "name": "stdout",
     "output_type": "stream",
     "text": [
      "Found 2002 images belonging to 2 classes.\n"
     ]
    }
   ],
   "source": [
    "train_dir = 'D:\\\\sj\\cats\\\\cats_and_dogs_small\\\\train'\n",
    "train_generator = train_datagen.flow_from_directory(train_dir,target_size=(150,150),batch_size=20,\n",
    "                                                    class_mode='binary')"
   ]
  },
  {
   "cell_type": "code",
   "execution_count": 10,
   "metadata": {},
   "outputs": [
    {
     "name": "stdout",
     "output_type": "stream",
     "text": [
      "Found 1000 images belonging to 2 classes.\n"
     ]
    }
   ],
   "source": [
    "test_dir = 'D:\\\\sj\\cats\\\\cats_and_dogs_small\\\\test'\n",
    "test_generator = train_datagen.flow_from_directory(test_dir,target_size=(150,150),batch_size=20,\n",
    "                                                    class_mode='binary')"
   ]
  },
  {
   "cell_type": "code",
   "execution_count": 11,
   "metadata": {},
   "outputs": [
    {
     "name": "stdout",
     "output_type": "stream",
     "text": [
      "(20, 150, 150, 3)\n",
      "(20,)\n"
     ]
    }
   ],
   "source": [
    "for data_batch,label_batch in train_generator:\n",
    "    print(data_batch.shape)\n",
    "    print(label_batch.shape)\n",
    "    break"
   ]
  },
  {
   "cell_type": "code",
   "execution_count": 12,
   "metadata": {},
   "outputs": [],
   "source": [
    "from keras import layers\n"
   ]
  },
  {
   "cell_type": "code",
   "execution_count": 13,
   "metadata": {},
   "outputs": [],
   "source": [
    "from keras import models"
   ]
  },
  {
   "cell_type": "code",
   "execution_count": 14,
   "metadata": {},
   "outputs": [
    {
     "name": "stdout",
     "output_type": "stream",
     "text": [
      "WARNING:tensorflow:From D:\\anaconda\\lib\\site-packages\\keras\\backend\\tensorflow_backend.py:74: The name tf.get_default_graph is deprecated. Please use tf.compat.v1.get_default_graph instead.\n",
      "\n"
     ]
    }
   ],
   "source": [
    "model = models.Sequential()"
   ]
  },
  {
   "cell_type": "code",
   "execution_count": 15,
   "metadata": {},
   "outputs": [
    {
     "name": "stdout",
     "output_type": "stream",
     "text": [
      "WARNING:tensorflow:From D:\\anaconda\\lib\\site-packages\\keras\\backend\\tensorflow_backend.py:517: The name tf.placeholder is deprecated. Please use tf.compat.v1.placeholder instead.\n",
      "\n",
      "WARNING:tensorflow:From D:\\anaconda\\lib\\site-packages\\keras\\backend\\tensorflow_backend.py:4138: The name tf.random_uniform is deprecated. Please use tf.random.uniform instead.\n",
      "\n"
     ]
    }
   ],
   "source": [
    "model.add(layers.Conv2D(32,(3,3),activation='relu',input_shape=(150,150,3)))"
   ]
  },
  {
   "cell_type": "code",
   "execution_count": 16,
   "metadata": {},
   "outputs": [
    {
     "name": "stdout",
     "output_type": "stream",
     "text": [
      "WARNING:tensorflow:From D:\\anaconda\\lib\\site-packages\\keras\\backend\\tensorflow_backend.py:3976: The name tf.nn.max_pool is deprecated. Please use tf.nn.max_pool2d instead.\n",
      "\n"
     ]
    }
   ],
   "source": [
    "model.add(layers.MaxPooling2D((2,2)))"
   ]
  },
  {
   "cell_type": "code",
   "execution_count": 17,
   "metadata": {},
   "outputs": [],
   "source": [
    "model.add(layers.Conv2D(64,(3,3),activation='relu'))\n"
   ]
  },
  {
   "cell_type": "code",
   "execution_count": 18,
   "metadata": {},
   "outputs": [],
   "source": [
    "model.add(layers.MaxPooling2D((2,2)))"
   ]
  },
  {
   "cell_type": "code",
   "execution_count": 19,
   "metadata": {},
   "outputs": [],
   "source": [
    "model.add(layers.Conv2D(128,(3,3),activation='relu'))\n",
    "model.add(layers.MaxPooling2D((2,2)))"
   ]
  },
  {
   "cell_type": "code",
   "execution_count": 20,
   "metadata": {},
   "outputs": [],
   "source": [
    "model.add(layers.Conv2D(128,(3,3),activation='relu'))\n",
    "model.add(layers.MaxPooling2D((2,2)))"
   ]
  },
  {
   "cell_type": "code",
   "execution_count": 21,
   "metadata": {},
   "outputs": [],
   "source": [
    "model.add(layers.Flatten())"
   ]
  },
  {
   "cell_type": "code",
   "execution_count": 22,
   "metadata": {},
   "outputs": [],
   "source": [
    "model.add(layers.Dense(512,activation='relu'))"
   ]
  },
  {
   "cell_type": "code",
   "execution_count": 23,
   "metadata": {},
   "outputs": [],
   "source": [
    "model.add(layers.Dense(1,activation='sigmoid'))"
   ]
  },
  {
   "cell_type": "code",
   "execution_count": 24,
   "metadata": {},
   "outputs": [
    {
     "name": "stdout",
     "output_type": "stream",
     "text": [
      "_________________________________________________________________\n",
      "Layer (type)                 Output Shape              Param #   \n",
      "=================================================================\n",
      "conv2d_1 (Conv2D)            (None, 148, 148, 32)      896       \n",
      "_________________________________________________________________\n",
      "max_pooling2d_1 (MaxPooling2 (None, 74, 74, 32)        0         \n",
      "_________________________________________________________________\n",
      "conv2d_2 (Conv2D)            (None, 72, 72, 64)        18496     \n",
      "_________________________________________________________________\n",
      "max_pooling2d_2 (MaxPooling2 (None, 36, 36, 64)        0         \n",
      "_________________________________________________________________\n",
      "conv2d_3 (Conv2D)            (None, 34, 34, 128)       73856     \n",
      "_________________________________________________________________\n",
      "max_pooling2d_3 (MaxPooling2 (None, 17, 17, 128)       0         \n",
      "_________________________________________________________________\n",
      "conv2d_4 (Conv2D)            (None, 15, 15, 128)       147584    \n",
      "_________________________________________________________________\n",
      "max_pooling2d_4 (MaxPooling2 (None, 7, 7, 128)         0         \n",
      "_________________________________________________________________\n",
      "flatten_1 (Flatten)          (None, 6272)              0         \n",
      "_________________________________________________________________\n",
      "dense_1 (Dense)              (None, 512)               3211776   \n",
      "_________________________________________________________________\n",
      "dense_2 (Dense)              (None, 1)                 513       \n",
      "=================================================================\n",
      "Total params: 3,453,121\n",
      "Trainable params: 3,453,121\n",
      "Non-trainable params: 0\n",
      "_________________________________________________________________\n"
     ]
    }
   ],
   "source": [
    "model.summary()"
   ]
  },
  {
   "cell_type": "code",
   "execution_count": 25,
   "metadata": {},
   "outputs": [],
   "source": [
    "from keras import optimizers"
   ]
  },
  {
   "cell_type": "code",
   "execution_count": 26,
   "metadata": {},
   "outputs": [
    {
     "name": "stdout",
     "output_type": "stream",
     "text": [
      "WARNING:tensorflow:From D:\\anaconda\\lib\\site-packages\\keras\\optimizers.py:790: The name tf.train.Optimizer is deprecated. Please use tf.compat.v1.train.Optimizer instead.\n",
      "\n",
      "WARNING:tensorflow:From D:\\anaconda\\lib\\site-packages\\keras\\backend\\tensorflow_backend.py:3376: The name tf.log is deprecated. Please use tf.math.log instead.\n",
      "\n",
      "WARNING:tensorflow:From D:\\anaconda\\lib\\site-packages\\tensorflow\\python\\ops\\nn_impl.py:180: add_dispatch_support.<locals>.wrapper (from tensorflow.python.ops.array_ops) is deprecated and will be removed in a future version.\n",
      "Instructions for updating:\n",
      "Use tf.where in 2.0, which has the same broadcast rule as np.where\n"
     ]
    }
   ],
   "source": [
    "model.compile(loss='binary_crossentropy',optimizer=optimizers.RMSprop(lr=1e-4),metrics=['acc'])"
   ]
  },
  {
   "cell_type": "code",
   "execution_count": 27,
   "metadata": {},
   "outputs": [
    {
     "name": "stdout",
     "output_type": "stream",
     "text": [
      "WARNING:tensorflow:From D:\\anaconda\\lib\\site-packages\\keras\\backend\\tensorflow_backend.py:986: The name tf.assign_add is deprecated. Please use tf.compat.v1.assign_add instead.\n",
      "\n",
      "Epoch 1/30\n",
      "100/100 [==============================] - 134s 1s/step - loss: 0.6921 - acc: 0.5105 - val_loss: 0.6788 - val_acc: 0.5530\n",
      "Epoch 2/30\n",
      "100/100 [==============================] - 72s 724ms/step - loss: 0.6550 - acc: 0.6130 - val_loss: 0.6794 - val_acc: 0.5540\n",
      "Epoch 3/30\n",
      "100/100 [==============================] - 73s 727ms/step - loss: 0.6131 - acc: 0.6705 - val_loss: 0.6127 - val_acc: 0.6810\n",
      "Epoch 4/30\n",
      "100/100 [==============================] - 72s 721ms/step - loss: 0.5696 - acc: 0.7040 - val_loss: 0.6298 - val_acc: 0.6500\n",
      "Epoch 5/30\n",
      "100/100 [==============================] - 74s 743ms/step - loss: 0.5430 - acc: 0.7165 - val_loss: 0.6088 - val_acc: 0.6730\n",
      "Epoch 6/30\n",
      "100/100 [==============================] - 72s 724ms/step - loss: 0.5184 - acc: 0.7455 - val_loss: 0.5749 - val_acc: 0.6990\n",
      "Epoch 7/30\n",
      "100/100 [==============================] - 72s 719ms/step - loss: 0.4980 - acc: 0.7501 - val_loss: 0.5591 - val_acc: 0.7020\n",
      "Epoch 8/30\n",
      "100/100 [==============================] - 72s 717ms/step - loss: 0.4670 - acc: 0.7685 - val_loss: 0.5597 - val_acc: 0.7190\n",
      "Epoch 9/30\n",
      "100/100 [==============================] - 71s 714ms/step - loss: 0.4268 - acc: 0.7965 - val_loss: 0.6168 - val_acc: 0.6880\n",
      "Epoch 10/30\n",
      "100/100 [==============================] - 71s 713ms/step - loss: 0.4074 - acc: 0.8200 - val_loss: 0.5806 - val_acc: 0.7080\n",
      "Epoch 11/30\n",
      "100/100 [==============================] - 71s 713ms/step - loss: 0.3782 - acc: 0.8250 - val_loss: 0.5837 - val_acc: 0.7120\n",
      "Epoch 12/30\n",
      "100/100 [==============================] - 71s 714ms/step - loss: 0.3561 - acc: 0.8360 - val_loss: 0.5615 - val_acc: 0.7080\n",
      "Epoch 13/30\n",
      "100/100 [==============================] - 71s 713ms/step - loss: 0.3298 - acc: 0.8655 - val_loss: 0.5902 - val_acc: 0.7170\n",
      "Epoch 14/30\n",
      "100/100 [==============================] - 71s 713ms/step - loss: 0.3069 - acc: 0.8650 - val_loss: 0.5997 - val_acc: 0.7210\n",
      "Epoch 15/30\n",
      "100/100 [==============================] - 71s 714ms/step - loss: 0.2906 - acc: 0.8780 - val_loss: 0.5931 - val_acc: 0.7260\n",
      "Epoch 16/30\n",
      "100/100 [==============================] - 72s 718ms/step - loss: 0.2619 - acc: 0.8945 - val_loss: 0.6733 - val_acc: 0.7000\n",
      "Epoch 17/30\n",
      "100/100 [==============================] - 71s 713ms/step - loss: 0.2311 - acc: 0.9080 - val_loss: 0.6668 - val_acc: 0.7140\n",
      "Epoch 18/30\n",
      "100/100 [==============================] - 71s 713ms/step - loss: 0.2138 - acc: 0.9205 - val_loss: 0.7367 - val_acc: 0.7130\n",
      "Epoch 19/30\n",
      "100/100 [==============================] - 72s 716ms/step - loss: 0.1901 - acc: 0.9345 - val_loss: 0.6683 - val_acc: 0.7080\n",
      "Epoch 20/30\n",
      "100/100 [==============================] - 71s 714ms/step - loss: 0.1651 - acc: 0.9380 - val_loss: 0.8486 - val_acc: 0.6800\n",
      "Epoch 21/30\n",
      "100/100 [==============================] - 72s 717ms/step - loss: 0.1490 - acc: 0.9490 - val_loss: 0.7542 - val_acc: 0.6980\n",
      "Epoch 22/30\n",
      "100/100 [==============================] - 71s 714ms/step - loss: 0.1279 - acc: 0.9610 - val_loss: 0.7568 - val_acc: 0.7170\n",
      "Epoch 23/30\n",
      "100/100 [==============================] - 71s 714ms/step - loss: 0.1089 - acc: 0.9700 - val_loss: 0.7951 - val_acc: 0.7280\n",
      "Epoch 24/30\n",
      "100/100 [==============================] - 71s 714ms/step - loss: 0.1008 - acc: 0.9655 - val_loss: 0.8330 - val_acc: 0.6930\n",
      "Epoch 25/30\n",
      "100/100 [==============================] - 72s 716ms/step - loss: 0.0808 - acc: 0.9765 - val_loss: 0.8757 - val_acc: 0.7220\n",
      "Epoch 26/30\n",
      "100/100 [==============================] - 71s 715ms/step - loss: 0.0694 - acc: 0.9780 - val_loss: 1.0325 - val_acc: 0.7190\n",
      "Epoch 27/30\n",
      "100/100 [==============================] - 71s 715ms/step - loss: 0.0605 - acc: 0.9825 - val_loss: 0.9238 - val_acc: 0.7210\n",
      "Epoch 28/30\n",
      "100/100 [==============================] - 71s 714ms/step - loss: 0.0498 - acc: 0.9860 - val_loss: 1.1799 - val_acc: 0.7080\n",
      "Epoch 29/30\n",
      "100/100 [==============================] - 72s 715ms/step - loss: 0.0606 - acc: 0.9815 - val_loss: 1.0448 - val_acc: 0.7150\n",
      "Epoch 30/30\n",
      "100/100 [==============================] - 72s 715ms/step - loss: 0.0390 - acc: 0.9875 - val_loss: 1.2505 - val_acc: 0.6990\n"
     ]
    }
   ],
   "source": [
    "history = model.fit_generator(train_generator,steps_per_epoch=100,epochs=30,\n",
    "                              validation_data=test_generator,validation_steps=50)"
   ]
  },
  {
   "cell_type": "code",
   "execution_count": 28,
   "metadata": {},
   "outputs": [
    {
     "name": "stdout",
     "output_type": "stream",
     "text": [
      "Populating the interactive namespace from numpy and matplotlib\n"
     ]
    }
   ],
   "source": [
    "%pylab inline"
   ]
  },
  {
   "cell_type": "code",
   "execution_count": 29,
   "metadata": {},
   "outputs": [],
   "source": [
    "acc = history.history['acc']"
   ]
  },
  {
   "cell_type": "code",
   "execution_count": 30,
   "metadata": {},
   "outputs": [],
   "source": [
    "val_acc = history.history['val_acc']"
   ]
  },
  {
   "cell_type": "code",
   "execution_count": 31,
   "metadata": {},
   "outputs": [],
   "source": [
    "loss = history.history['loss']"
   ]
  },
  {
   "cell_type": "code",
   "execution_count": 33,
   "metadata": {},
   "outputs": [],
   "source": [
    "val_loss = history.history['val_loss']"
   ]
  },
  {
   "cell_type": "code",
   "execution_count": 34,
   "metadata": {},
   "outputs": [],
   "source": [
    "epochs = range(1,len(acc)+1)"
   ]
  },
  {
   "cell_type": "code",
   "execution_count": 38,
   "metadata": {},
   "outputs": [
    {
     "data": {
      "image/png": "[encoded data removed]",
      "text/plain": [
       "<Figure size 432x288 with 1 Axes>"
      ]
     },
     "metadata": {
      "needs_background": "light"
     },
     "output_type": "display_data"
    }
   ],
   "source": [
    "plt.plot(epochs,acc,'bo',label='Training acc')\n",
    "plt,plot(epochs,val_acc,'b',label='Validation acc')\n",
    "plt.title('Train and validation acc')\n",
    "plt.legend()\n",
    "plt.grid()"
   ]
  },
  {
   "cell_type": "code",
   "execution_count": null,
   "metadata": {},
   "outputs": [],
   "source": []
  }
 ],
 "metadata": {
  "kernelspec": {
   "display_name": "Python 3",
   "language": "python",
   "name": "python3"
  },
  "language_info": {
   "codemirror_mode": {
    "name": "ipython",
    "version": 3
   },
   "file_extension": ".py",
   "mimetype": "text/x-python",
   "name": "python",
   "nbconvert_exporter": "python",
   "pygments_lexer": "ipython3",
   "version": "3.7.4"
  }
 },
 "nbformat": 4,
 "nbformat_minor": 2
}
