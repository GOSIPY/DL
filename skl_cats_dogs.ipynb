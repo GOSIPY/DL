{
 "cells": [
  {
   "cell_type": "code",
   "execution_count": 26,
   "metadata": {},
   "outputs": [],
   "source": [
    "import os"
   ]
  },
  {
   "cell_type": "code",
   "execution_count": 27,
   "metadata": {},
   "outputs": [],
   "source": [
    "import cv2"
   ]
  },
  {
   "cell_type": "code",
   "execution_count": 28,
   "metadata": {},
   "outputs": [],
   "source": [
    "train_cats_path = r'D:\\sj\\cats\\cats_and_dogs_small\\train\\cats'"
   ]
  },
  {
   "cell_type": "code",
   "execution_count": 29,
   "metadata": {},
   "outputs": [],
   "source": [
    "train_dogs_path = r'D:\\sj\\cats\\cats_and_dogs_small\\train\\dogs'"
   ]
  },
  {
   "cell_type": "code",
   "execution_count": 30,
   "metadata": {},
   "outputs": [],
   "source": [
    "cats = []\n",
    "label_cats = []"
   ]
  },
  {
   "cell_type": "code",
   "execution_count": 31,
   "metadata": {},
   "outputs": [],
   "source": [
    "imagelist_cats = os.listdir(train_cats_path)\n",
    "imagelist_dogs = os.listdir(train_dogs_path)"
   ]
  },
  {
   "cell_type": "code",
   "execution_count": 32,
   "metadata": {},
   "outputs": [],
   "source": [
    "for imagename in imagelist_cats:\n",
    "    image = cv2.imread(train_cats_path+'\\\\'+ imagename)\n",
    "    image = cv2.resize(image,(64,64),)\n",
    "    cats.append(image)\n",
    "    label_cats.append('0')"
   ]
  },
  {
   "cell_type": "code",
   "execution_count": 33,
   "metadata": {},
   "outputs": [],
   "source": [
    "dogs = []"
   ]
  },
  {
   "cell_type": "code",
   "execution_count": 34,
   "metadata": {},
   "outputs": [],
   "source": [
    "label_dogs = []"
   ]
  },
  {
   "cell_type": "code",
   "execution_count": 35,
   "metadata": {},
   "outputs": [],
   "source": [
    "for imagename in imagelist_dogs:\n",
    "    image = cv2.imread(train_dogs_path+'\\\\'+ imagename)\n",
    "    image = cv2.resize(image,(64,64),)\n",
    "    dogs.append(image)\n",
    "    label_dogs.append('1')"
   ]
  },
  {
   "cell_type": "code",
   "execution_count": 36,
   "metadata": {},
   "outputs": [
    {
     "name": "stdout",
     "output_type": "stream",
     "text": [
      "Populating the interactive namespace from numpy and matplotlib\n"
     ]
    }
   ],
   "source": [
    "%pylab inline"
   ]
  },
  {
   "cell_type": "code",
   "execution_count": 37,
   "metadata": {},
   "outputs": [],
   "source": [
    "train_images = cats + dogs"
   ]
  },
  {
   "cell_type": "code",
   "execution_count": 38,
   "metadata": {},
   "outputs": [],
   "source": [
    "train_images = np.array(train_images)"
   ]
  },
  {
   "cell_type": "code",
   "execution_count": 39,
   "metadata": {},
   "outputs": [
    {
     "data": {
      "text/plain": [
       "(2002, 64, 64, 3)"
      ]
     },
     "execution_count": 39,
     "metadata": {},
     "output_type": "execute_result"
    }
   ],
   "source": [
    "train_images.shape"
   ]
  },
  {
   "cell_type": "code",
   "execution_count": 40,
   "metadata": {},
   "outputs": [],
   "source": [
    "train_labels = label_cats + label_dogs"
   ]
  },
  {
   "cell_type": "code",
   "execution_count": 41,
   "metadata": {},
   "outputs": [],
   "source": [
    "train_labels = np.array(train_labels)"
   ]
  },
  {
   "cell_type": "code",
   "execution_count": 42,
   "metadata": {},
   "outputs": [
    {
     "data": {
      "text/plain": [
       "(2002,)"
      ]
     },
     "execution_count": 42,
     "metadata": {},
     "output_type": "execute_result"
    }
   ],
   "source": [
    "train_labels.shape"
   ]
  },
  {
   "cell_type": "code",
   "execution_count": 43,
   "metadata": {},
   "outputs": [],
   "source": [
    "train_images = train_images.reshape(2002,-1)/255"
   ]
  },
  {
   "cell_type": "code",
   "execution_count": 44,
   "metadata": {},
   "outputs": [
    {
     "name": "stderr",
     "output_type": "stream",
     "text": [
      "D:\\anaconda\\lib\\site-packages\\sklearn\\ensemble\\weight_boosting.py:29: DeprecationWarning: numpy.core.umath_tests is an internal NumPy module and should not be imported. It will be removed in a future NumPy release.\n",
      "  from numpy.core.umath_tests import inner1d\n"
     ]
    }
   ],
   "source": [
    "from sklearn import neighbors,linear_model,tree,ensemble,svm,model_selection"
   ]
  },
  {
   "cell_type": "code",
   "execution_count": 45,
   "metadata": {},
   "outputs": [
    {
     "name": "stdout",
     "output_type": "stream",
     "text": [
      "KNN n=5\n",
      "[0.53443114 0.54491018 0.55255255]\n",
      "KNN n=20\n",
      "[0.56287425 0.60179641 0.56306306]\n",
      "line_model\n",
      "[0.58682635 0.57784431 0.59009009]\n",
      "linearSVC\n",
      "[0.56437126 0.56437126 0.55255255]\n",
      "SVC\n",
      "[0.58233533 0.58383234 0.58408408]\n",
      "AdaBoostClassifier\n",
      "[0.57035928 0.57634731 0.54804805]\n"
     ]
    }
   ],
   "source": [
    "X = train_images\n",
    "y = train_labels\n",
    "rlts = []\n",
    "labels = []\n",
    "for model,modelname in [\n",
    "    [neighbors.KNeighborsClassifier(n_neighbors=5),'KNN n=5'],\n",
    "    [neighbors.KNeighborsClassifier(n_neighbors=20),'KNN n=20'],\n",
    "    [linear_model.LogisticRegressionCV(),'line_model'],\n",
    "    [svm.LinearSVC(),'linearSVC'],\n",
    "    [svm.SVC(),'SVC'],\n",
    "    [ensemble.AdaBoostClassifier(),'AdaBoostClassifier']\n",
    "]:\n",
    "    print(modelname)\n",
    "    print(model_selection.cross_val_score(model,X,y))\n",
    "    rlt = model_selection.cross_val_score(model,X,y)\n",
    "    rlts.append([xx for xx in rlt])\n",
    "    labels.append(modelname)\n",
    "    "
   ]
  },
  {
   "cell_type": "code",
   "execution_count": 46,
   "metadata": {},
   "outputs": [
    {
     "data": {
      "image/png": "[encoded data removed]",
      "text/plain": [
       "<Figure size 1152x360 with 1 Axes>"
      ]
     },
     "metadata": {
      "needs_background": "light"
     },
     "output_type": "display_data"
    }
   ],
   "source": [
    "fig = plt.figure(figsize=(16,5))\n",
    "ax = fig.add_subplot(111)\n",
    "for i, rlt in enumerate(rlts):\n",
    "    xs, ys = [i+row*0.05 for row in range(len(rlt))], rlt\n",
    "    ax.scatter(xs, ys, label = labels[i])\n",
    "   \n",
    "ax.set_xticks(range(len(rlts)))\n",
    "ax.set_xticklabels(labels, fontsize=12)\n",
    "ax.set_ylabel('accuracy score', fontsize=22)\n",
    "fig.suptitle(title, fontsize=24)\n",
    "plt.grid()\n",
    "plt.show()"
   ]
  },
  {
   "cell_type": "code",
   "execution_count": null,
   "metadata": {},
   "outputs": [],
   "source": []
  }
 ],
 "metadata": {
  "kernelspec": {
   "display_name": "Python 3",
   "language": "python",
   "name": "python3"
  },
  "language_info": {
   "codemirror_mode": {
    "name": "ipython",
    "version": 3
   },
   "file_extension": ".py",
   "mimetype": "text/x-python",
   "name": "python",
   "nbconvert_exporter": "python",
   "pygments_lexer": "ipython3",
   "version": "3.7.4"
  }
 },
 "nbformat": 4,
 "nbformat_minor": 2
}
